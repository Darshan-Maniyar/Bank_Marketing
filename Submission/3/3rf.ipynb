{
 "cells": [
  {
   "cell_type": "markdown",
   "metadata": {},
   "source": [
    "# <font color=blue> Bank: Marketing </font>"
   ]
  },
  {
   "cell_type": "markdown",
   "metadata": {},
   "source": [
    "A bank in Portugal was rolling out a new term deposits product for its existing customers. They wanted to understand which of their existing customers to call and target for this new product so that ROI would be high. In the past they had connected to their customer base through phone calls for various other products. Results for these previous campaigns had been made available for over 30,000 customers."
   ]
  },
  {
   "cell_type": "markdown",
   "metadata": {},
   "source": [
    "### Summary:\n",
    "\n",
    "y(subscribed for deposit) is the dependant (target) variable. <br>\n",
    "\n",
    "1 - age (numeric)<br>\n",
    "2 - job : type of job (categorical: “admin.”,“unknown”,“unemployed”,“management”,“housemaid”,“entrepre neur”,“student”, “blue-collar”, “self-employed”,“retired”,“technician”, “services”)<br>\n",
    "3 - marital : marital status (categorical: “married”,“divorced”,“single”; note: “divorced” means divorced or widowed)<br>\n",
    "4 - education (categorical: “unknown”,“secondary”,“primary”,“tertiary”) <br>\n",
    "5 - default: has credit in default? (binary: “yes”,“no”)<br>\n",
    "6 - balance: average yearly balance, in euros (numeric)<br>\n",
    "7 - housing: has housing loan? (binary: “yes”,“no”)<br>\n",
    "8 - loan: has personal loan? (binary: “yes”,“no”)<br>\n",
    "<br>\n",
    "Related with the last contact of the current campaign:<br>\n",
    "9 - contact: contact communication type (categorical: “unknown”,“telephone”,“cellular”)<br>\n",
    "10 - day: last contact day of the month (numeric))<br>\n",
    "<br>\n",
    "Direct Marketing Campaign: Details and Phase I Tasks<br>\n",
    "11 - month: last contact month of year (categorical: “jan”, “feb”, “mar”, . . . , “nov”, “dec”)<br>\n",
    "12 - duration: last contact duration, in seconds (numeric)<br>\n",
    "<br>\n",
    "other attributes: <br>\n",
    "13 - campaign: number of contacts performed during this campaign and for this client (numeric, includes last contact)<br>\n",
    "14 - pdays: number of days that passed by after the client was last contacted from a previous campaign (numeric, -1 means client was not previously contacted)<br>\n",
    "15 - previous: number of contacts performed before this campaign and for this client (numeric)<br>\n",
    "16 - poutcome: outcome of the previous marketing campaign (categorical: “unknown”,“other”,“failure”,“success”)<br>\n",
    "\n",
    "\n",
    "\n",
    "### **Solutioning : **\n",
    "\n",
    "It's a binary clasiification problem. I am using 'randomForest' package.\n",
    "\n",
    "\n",
    "### Resultes :\n",
    "Accurecy of *~90%* on test data <br>\n",
    "KS score of *~42%* on test data <br>\n",
    "Precession of *~62%* on test data <br>\n",
    "True Positive Rate of *~46%* on test data <br>\n",
    "\n",
    "### Conclusion :\n",
    "With Accurecy of 90% we can say most "
   ]
  },
  {
   "cell_type": "markdown",
   "metadata": {},
   "source": [
    "### <font color=green> ================================== Execution ==============================================</font>"
   ]
  },
  {
   "cell_type": "markdown",
   "metadata": {},
   "source": [
    "## <font color=green>Summarizing Data</font>  "
   ]
  },
  {
   "cell_type": "code",
   "execution_count": 1,
   "metadata": {},
   "outputs": [
    {
     "name": "stderr",
     "output_type": "stream",
     "text": [
      "randomForest 4.6-12\n",
      "Type rfNews() to see new features/changes/bug fixes.\n",
      "\n",
      "Attaching package: 'ggplot2'\n",
      "\n",
      "The following object is masked from 'package:randomForest':\n",
      "\n",
      "    margin\n",
      "\n",
      "\n",
      "Attaching package: 'gridExtra'\n",
      "\n",
      "The following object is masked from 'package:randomForest':\n",
      "\n",
      "    combine\n",
      "\n",
      "\n",
      "Attaching package: 'dplyr'\n",
      "\n",
      "The following object is masked from 'package:gridExtra':\n",
      "\n",
      "    combine\n",
      "\n",
      "The following object is masked from 'package:randomForest':\n",
      "\n",
      "    combine\n",
      "\n",
      "The following objects are masked from 'package:stats':\n",
      "\n",
      "    filter, lag\n",
      "\n",
      "The following objects are masked from 'package:base':\n",
      "\n",
      "    intersect, setdiff, setequal, union\n",
      "\n"
     ]
    }
   ],
   "source": [
    "library(randomForest)\n",
    "library(corrplot)\n",
    "library(ggplot2)\n",
    "library(gridExtra)\n",
    "library(dplyr)"
   ]
  },
  {
   "cell_type": "code",
   "execution_count": 2,
   "metadata": {
    "collapsed": true
   },
   "outputs": [],
   "source": [
    "options(repr.plot.width=8, repr.plot.height=4)"
   ]
  },
  {
   "cell_type": "code",
   "execution_count": 3,
   "metadata": {},
   "outputs": [
    {
     "data": {
      "text/html": [
       "'H:/softwares/Data Analytics_Darshan/2. R.Introduction/Project/Project 5 Banking/P5_Banking'"
      ],
      "text/latex": [
       "'H:/softwares/Data Analytics\\_Darshan/2. R.Introduction/Project/Project 5 Banking/P5\\_Banking'"
      ],
      "text/markdown": [
       "'H:/softwares/Data Analytics_Darshan/2. R.Introduction/Project/Project 5 Banking/P5_Banking'"
      ],
      "text/plain": [
       "[1] \"H:/softwares/Data Analytics_Darshan/2. R.Introduction/Project/Project 5 Banking/P5_Banking\""
      ]
     },
     "metadata": {},
     "output_type": "display_data"
    }
   ],
   "source": [
    "setwd(\"H:/softwares/Data Analytics_Darshan/2. R.Introduction/Project/Project 5 Banking/P5_Banking\")\n",
    "getwd()"
   ]
  },
  {
   "cell_type": "code",
   "execution_count": 4,
   "metadata": {
    "scrolled": true
   },
   "outputs": [
    {
     "name": "stdout",
     "output_type": "stream",
     "text": [
      "'data.frame':\t31647 obs. of  18 variables:\n",
      " $ age      : int  45 34 40 58 59 36 34 38 52 48 ...\n",
      " $ job      : chr  \"blue-collar\" \"admin.\" \"technician\" \"self-employed\" ...\n",
      " $ marital  : chr  \"married\" \"divorced\" \"divorced\" \"married\" ...\n",
      " $ education: chr  \"secondary\" \"secondary\" \"secondary\" \"tertiary\" ...\n",
      " $ default  : chr  \"no\" \"no\" \"no\" \"no\" ...\n",
      " $ balance  : int  2 0 311 5810 169 24 -868 -140 98 1203 ...\n",
      " $ housing  : chr  \"no\" \"no\" \"no\" \"no\" ...\n",
      " $ loan     : chr  \"no\" \"no\" \"no\" \"no\" ...\n",
      " $ contact  : chr  \"cellular\" \"cellular\" \"cellular\" \"cellular\" ...\n",
      " $ day      : int  26 10 6 12 16 11 30 25 28 6 ...\n",
      " $ month    : chr  \"aug\" \"jul\" \"aug\" \"mar\" ...\n",
      " $ duration : int  105 268 738 139 181 100 198 456 103 61 ...\n",
      " $ campaign : int  10 1 2 1 3 5 2 3 1 5 ...\n",
      " $ pdays    : int  -1 -1 -1 -1 -1 -1 -1 -1 245 -1 ...\n",
      " $ previous : int  0 0 0 0 0 0 0 0 2 0 ...\n",
      " $ poutcome : chr  NA NA NA NA ...\n",
      " $ ID       : int  22944 13870 19301 31334 3849 10192 12411 12310 27838 19423 ...\n",
      " $ y        : chr  \"no\" \"no\" \"yes\" \"yes\" ...\n"
     ]
    }
   ],
   "source": [
    "bank=read.csv(\"bank-full.csv\",stringsAsFactors = F,na.strings = \"unknown\")\n",
    "str(bank)"
   ]
  },
  {
   "cell_type": "code",
   "execution_count": 5,
   "metadata": {},
   "outputs": [
    {
     "data": {
      "text/plain": [
       "      age            job              marital           education        \n",
       " Min.   :18.00   Length:31647       Length:31647       Length:31647      \n",
       " 1st Qu.:33.00   Class :character   Class :character   Class :character  \n",
       " Median :39.00   Mode  :character   Mode  :character   Mode  :character  \n",
       " Mean   :40.91                                                           \n",
       " 3rd Qu.:48.00                                                           \n",
       " Max.   :95.00                                                           \n",
       "   default             balance         housing              loan          \n",
       " Length:31647       Min.   : -8019   Length:31647       Length:31647      \n",
       " Class :character   1st Qu.:    72   Class :character   Class :character  \n",
       " Mode  :character   Median :   445   Mode  :character   Mode  :character  \n",
       "                    Mean   :  1348                                        \n",
       "                    3rd Qu.:  1414                                        \n",
       "                    Max.   :102127                                        \n",
       "   contact               day           month              duration     \n",
       " Length:31647       Min.   : 1.00   Length:31647       Min.   :   0.0  \n",
       " Class :character   1st Qu.: 8.00   Class :character   1st Qu.: 103.0  \n",
       " Mode  :character   Median :16.00   Mode  :character   Median : 181.0  \n",
       "                    Mean   :15.77                      Mean   : 258.3  \n",
       "                    3rd Qu.:21.00                      3rd Qu.: 320.0  \n",
       "                    Max.   :31.00                      Max.   :3785.0  \n",
       "    campaign          pdays           previous          poutcome        \n",
       " Min.   : 1.000   Min.   : -1.00   Min.   :  0.0000   Length:31647      \n",
       " 1st Qu.: 1.000   1st Qu.: -1.00   1st Qu.:  0.0000   Class :character  \n",
       " Median : 2.000   Median : -1.00   Median :  0.0000   Mode  :character  \n",
       " Mean   : 2.758   Mean   : 40.11   Mean   :  0.5736                     \n",
       " 3rd Qu.: 3.000   3rd Qu.: -1.00   3rd Qu.:  0.0000                     \n",
       " Max.   :58.000   Max.   :854.00   Max.   :275.0000                     \n",
       "       ID             y            \n",
       " Min.   :    1   Length:31647      \n",
       " 1st Qu.:11276   Class :character  \n",
       " Median :22625   Mode  :character  \n",
       " Mean   :22612                     \n",
       " 3rd Qu.:33954                     \n",
       " Max.   :45211                     "
      ]
     },
     "metadata": {},
     "output_type": "display_data"
    }
   ],
   "source": [
    "summary(bank)"
   ]
  },
  {
   "cell_type": "code",
   "execution_count": 6,
   "metadata": {
    "scrolled": false
   },
   "outputs": [
    {
     "data": {
      "text/html": [
       "<dl class=dl-horizontal>\n",
       "\t<dt>age</dt>\n",
       "\t\t<dd>0</dd>\n",
       "\t<dt>job</dt>\n",
       "\t\t<dd>211</dd>\n",
       "\t<dt>marital</dt>\n",
       "\t\t<dd>0</dd>\n",
       "\t<dt>education</dt>\n",
       "\t\t<dd>1308</dd>\n",
       "\t<dt>default</dt>\n",
       "\t\t<dd>0</dd>\n",
       "\t<dt>balance</dt>\n",
       "\t\t<dd>0</dd>\n",
       "\t<dt>housing</dt>\n",
       "\t\t<dd>0</dd>\n",
       "\t<dt>loan</dt>\n",
       "\t\t<dd>0</dd>\n",
       "\t<dt>contact</dt>\n",
       "\t\t<dd>9129</dd>\n",
       "\t<dt>day</dt>\n",
       "\t\t<dd>0</dd>\n",
       "\t<dt>month</dt>\n",
       "\t\t<dd>0</dd>\n",
       "\t<dt>duration</dt>\n",
       "\t\t<dd>0</dd>\n",
       "\t<dt>campaign</dt>\n",
       "\t\t<dd>0</dd>\n",
       "\t<dt>pdays</dt>\n",
       "\t\t<dd>0</dd>\n",
       "\t<dt>previous</dt>\n",
       "\t\t<dd>0</dd>\n",
       "\t<dt>poutcome</dt>\n",
       "\t\t<dd>25899</dd>\n",
       "\t<dt>ID</dt>\n",
       "\t\t<dd>0</dd>\n",
       "\t<dt>y</dt>\n",
       "\t\t<dd>0</dd>\n",
       "</dl>\n"
      ],
      "text/latex": [
       "\\begin{description*}\n",
       "\\item[age] 0\n",
       "\\item[job] 211\n",
       "\\item[marital] 0\n",
       "\\item[education] 1308\n",
       "\\item[default] 0\n",
       "\\item[balance] 0\n",
       "\\item[housing] 0\n",
       "\\item[loan] 0\n",
       "\\item[contact] 9129\n",
       "\\item[day] 0\n",
       "\\item[month] 0\n",
       "\\item[duration] 0\n",
       "\\item[campaign] 0\n",
       "\\item[pdays] 0\n",
       "\\item[previous] 0\n",
       "\\item[poutcome] 25899\n",
       "\\item[ID] 0\n",
       "\\item[y] 0\n",
       "\\end{description*}\n"
      ],
      "text/markdown": [
       "age\n",
       ":   0job\n",
       ":   211marital\n",
       ":   0education\n",
       ":   1308default\n",
       ":   0balance\n",
       ":   0housing\n",
       ":   0loan\n",
       ":   0contact\n",
       ":   9129day\n",
       ":   0month\n",
       ":   0duration\n",
       ":   0campaign\n",
       ":   0pdays\n",
       ":   0previous\n",
       ":   0poutcome\n",
       ":   25899ID\n",
       ":   0y\n",
       ":   0\n",
       "\n"
      ],
      "text/plain": [
       "      age       job   marital education   default   balance   housing      loan \n",
       "        0       211         0      1308         0         0         0         0 \n",
       "  contact       day     month  duration  campaign     pdays  previous  poutcome \n",
       "     9129         0         0         0         0         0         0     25899 \n",
       "       ID         y \n",
       "        0         0 "
      ]
     },
     "metadata": {},
     "output_type": "display_data"
    }
   ],
   "source": [
    "colSums(is.na(bank))"
   ]
  },
  {
   "cell_type": "code",
   "execution_count": 7,
   "metadata": {
    "collapsed": true
   },
   "outputs": [],
   "source": [
    "bank$poutcome=NULL\n",
    "bank$ID=NULL"
   ]
  },
  {
   "cell_type": "markdown",
   "metadata": {},
   "source": [
    "## <font color=green> Data Visualization </font>"
   ]
  },
  {
   "cell_type": "code",
   "execution_count": 8,
   "metadata": {},
   "outputs": [
    {
     "data": {
      "image/png": "[encoded data removed]",
      "text/plain": [
       "Plot with title \"Histogram of bank$age\""
      ]
     },
     "metadata": {},
     "output_type": "display_data"
    }
   ],
   "source": [
    "par(mfcol=c(1,2))\n",
    "boxplot(bank$age)\n",
    "hist(bank$age)"
   ]
  },
  {
   "cell_type": "code",
   "execution_count": 9,
   "metadata": {},
   "outputs": [
    {
     "data": {
      "image/png": "[encoded data removed]",
      "text/plain": [
       "Plot with title \"Histogram of bank$balance\""
      ]
     },
     "metadata": {},
     "output_type": "display_data"
    }
   ],
   "source": [
    "par(mfcol=c(1,2))\n",
    "boxplot(bank$balance)\n",
    "hist(bank$balance)"
   ]
  },
  {
   "cell_type": "code",
   "execution_count": 10,
   "metadata": {},
   "outputs": [
    {
     "data": {
      "image/png": "[encoded data removed]",
      "text/plain": [
       "Plot with title \"Histogram of bank$day\""
      ]
     },
     "metadata": {},
     "output_type": "display_data"
    }
   ],
   "source": [
    "par(mfcol=c(1,2))\n",
    "boxplot(bank$day)\n",
    "hist(bank$day)"
   ]
  },
  {
   "cell_type": "code",
   "execution_count": 11,
   "metadata": {},
   "outputs": [
    {
     "data": {
      "image/png": "[encoded data removed]",
      "text/plain": [
       "Plot with title \"Histogram of bank$duration\""
      ]
     },
     "metadata": {},
     "output_type": "display_data"
    }
   ],
   "source": [
    "par(mfcol=c(1,2))\n",
    "boxplot(bank$duration)\n",
    "hist(bank$duration)"
   ]
  },
  {
   "cell_type": "code",
   "execution_count": 12,
   "metadata": {},
   "outputs": [
    {
     "data": {
      "image/png": "[encoded data removed]",
      "text/plain": [
       "Plot with title \"Histogram of bank$campaign\""
      ]
     },
     "metadata": {},
     "output_type": "display_data"
    }
   ],
   "source": [
    "par(mfcol=c(1,2))\n",
    "boxplot(bank$campaign)\n",
    "hist(bank$campaign)"
   ]
  },
  {
   "cell_type": "code",
   "execution_count": 13,
   "metadata": {},
   "outputs": [
    {
     "data": {
      "image/png": "[encoded data removed]",
      "text/plain": [
       "Plot with title \"Histogram of bank$pdays\""
      ]
     },
     "metadata": {},
     "output_type": "display_data"
    }
   ],
   "source": [
    "par(mfcol=c(1,2))\n",
    "boxplot(bank$pdays)\n",
    "hist(bank$pdays)"
   ]
  },
  {
   "cell_type": "code",
   "execution_count": 14,
   "metadata": {},
   "outputs": [
    {
     "data": {
      "image/png": "[encoded data removed]",
      "text/plain": [
       "Plot with title \"Histogram of bank$previous\""
      ]
     },
     "metadata": {},
     "output_type": "display_data"
    }
   ],
   "source": [
    "par(mfcol=c(1,2))\n",
    "boxplot(bank$previous)\n",
    "hist(bank$previous)"
   ]
  },
  {
   "cell_type": "code",
   "execution_count": 15,
   "metadata": {},
   "outputs": [
    {
     "data": {},
     "metadata": {},
     "output_type": "display_data"
    },
    {
     "data": {},
     "metadata": {},
     "output_type": "display_data"
    },
    {
     "data": {
      "image/png": "[encoded data removed]",
      "text/plain": [
       "plot without title"
      ]
     },
     "metadata": {},
     "output_type": "display_data"
    },
    {
     "data": {
      "image/png": "[encoded data removed]",
      "text/plain": [
       "plot without title"
      ]
     },
     "metadata": {},
     "output_type": "display_data"
    }
   ],
   "source": [
    "plot1=ggplot(bank,aes(job,fill=y))+geom_bar()+theme(axis.text.x = element_text(angle = 90, hjust = 1))\n",
    "\n",
    "mydf <- data.frame(prop.table(table(bank$job, bank$y),1))\n",
    "names(mydf)=c(\"job\",\"y\",\"Percentage\")\n",
    "\n",
    "plot2=ggplot(mydf, aes(job, Percentage, fill = y)) + \n",
    "  geom_bar(position = \"stack\", stat = \"identity\") +\n",
    "  scale_y_continuous(labels=scales::percent)+\n",
    "theme(axis.text.x = element_text(angle = 90, hjust = 1))\n",
    "plot1\n",
    "plot2"
   ]
  },
  {
   "cell_type": "code",
   "execution_count": 16,
   "metadata": {},
   "outputs": [
    {
     "data": {
      "image/png": "[encoded data removed]",
      "text/plain": [
       "plot without title"
      ]
     },
     "metadata": {},
     "output_type": "display_data"
    }
   ],
   "source": [
    "plot1=ggplot(bank,aes(marital,fill=y))+geom_bar()+theme(axis.text.x = element_text(angle = 90, hjust = 1))\n",
    "\n",
    "mydf <- data.frame(prop.table(table(bank$marital, bank$y),1))\n",
    "names(mydf)=c(\"marital\",\"y\",\"Percentage\")\n",
    "\n",
    "plot2=ggplot(mydf, aes(marital, Percentage, fill = y)) + \n",
    "  geom_bar(position = \"stack\", stat = \"identity\") +\n",
    "  scale_y_continuous(labels=scales::percent)+\n",
    "theme(axis.text.x = element_text(angle = 90, hjust = 1))\n",
    "\n",
    "grid.arrange(plot1, plot2, ncol=2)"
   ]
  },
  {
   "cell_type": "code",
   "execution_count": 17,
   "metadata": {},
   "outputs": [
    {
     "data": {
      "image/png": "[encoded data removed]",
      "text/plain": [
       "plot without title"
      ]
     },
     "metadata": {},
     "output_type": "display_data"
    }
   ],
   "source": [
    "plot1=ggplot(bank,aes(education,fill=y))+geom_bar()+theme(axis.text.x = element_text(angle = 90, hjust = 1))\n",
    "\n",
    "mydf <- data.frame(prop.table(table(bank$education, bank$y),1))\n",
    "names(mydf)=c(\"education\",\"y\",\"Percentage\")\n",
    "\n",
    "plot2=ggplot(mydf, aes(education, Percentage, fill = y)) + \n",
    "  geom_bar(position = \"stack\", stat = \"identity\") +\n",
    "  scale_y_continuous(labels=scales::percent)+\n",
    "theme(axis.text.x = element_text(angle = 90, hjust = 1))\n",
    "\n",
    "grid.arrange(plot1, plot2, ncol=2)"
   ]
  },
  {
   "cell_type": "code",
   "execution_count": 18,
   "metadata": {},
   "outputs": [
    {
     "data": {
      "image/png": "[encoded data removed]",
      "text/plain": [
       "plot without title"
      ]
     },
     "metadata": {},
     "output_type": "display_data"
    }
   ],
   "source": [
    "plot1=ggplot(bank,aes(default,fill=y))+geom_bar()+theme(axis.text.x = element_text(angle = 90, hjust = 1))\n",
    "\n",
    "mydf <- data.frame(prop.table(table(bank$default, bank$y),1))\n",
    "names(mydf)=c(\"default\",\"y\",\"Percentage\")\n",
    "\n",
    "plot2=ggplot(mydf, aes(default, Percentage, fill = y)) + \n",
    "  geom_bar(position = \"stack\", stat = \"identity\") +\n",
    "  scale_y_continuous(labels=scales::percent)+\n",
    "theme(axis.text.x = element_text(angle = 90, hjust = 1))\n",
    "\n",
    "grid.arrange(plot1, plot2, ncol=2)"
   ]
  },
  {
   "cell_type": "code",
   "execution_count": 19,
   "metadata": {},
   "outputs": [
    {
     "data": {
      "image/png": "[encoded data removed]",
      "text/plain": [
       "plot without title"
      ]
     },
     "metadata": {},
     "output_type": "display_data"
    }
   ],
   "source": [
    "plot1=ggplot(bank,aes(housing,fill=y))+geom_bar()+theme(axis.text.x = element_text(angle = 90, hjust = 1))\n",
    "\n",
    "mydf <- data.frame(prop.table(table(bank$housing, bank$y),1))\n",
    "names(mydf)=c(\"housing\",\"y\",\"Percentage\")\n",
    "\n",
    "plot2=ggplot(mydf, aes(housing, Percentage, fill = y)) + \n",
    "  geom_bar(position = \"stack\", stat = \"identity\") +\n",
    "  scale_y_continuous(labels=scales::percent)+\n",
    "theme(axis.text.x = element_text(angle = 90, hjust = 1))\n",
    "\n",
    "grid.arrange(plot1, plot2, ncol=2)"
   ]
  },
  {
   "cell_type": "code",
   "execution_count": 20,
   "metadata": {},
   "outputs": [
    {
     "data": {
      "image/png": "[encoded data removed]",
      "text/plain": [
       "plot without title"
      ]
     },
     "metadata": {},
     "output_type": "display_data"
    }
   ],
   "source": [
    "plot1=ggplot(bank,aes(loan,fill=y))+geom_bar()+theme(axis.text.x = element_text(angle = 90, hjust = 1))\n",
    "\n",
    "mydf <- data.frame(prop.table(table(bank$loan, bank$y),1))\n",
    "names(mydf)=c(\"loan\",\"y\",\"Percentage\")\n",
    "\n",
    "plot2=ggplot(mydf, aes(loan, Percentage, fill = y)) + \n",
    "  geom_bar(position = \"stack\", stat = \"identity\") +\n",
    "  scale_y_continuous(labels=scales::percent)+\n",
    "theme(axis.text.x = element_text(angle = 90, hjust = 1))\n",
    "\n",
    "grid.arrange(plot1, plot2, ncol=2)"
   ]
  },
  {
   "cell_type": "code",
   "execution_count": 21,
   "metadata": {},
   "outputs": [
    {
     "data": {
      "image/png": "[encoded data removed]",
      "text/plain": [
       "plot without title"
      ]
     },
     "metadata": {},
     "output_type": "display_data"
    }
   ],
   "source": [
    "plot1=ggplot(bank,aes(contact,fill=y))+geom_bar()+theme(axis.text.x = element_text(angle = 90, hjust = 1))\n",
    "\n",
    "mydf <- data.frame(prop.table(table(bank$contact, bank$y),1))\n",
    "names(mydf)=c(\"contact\",\"y\",\"Percentage\")\n",
    "\n",
    "plot2=ggplot(mydf, aes(contact, Percentage, fill = y)) + \n",
    "  geom_bar(position = \"stack\", stat = \"identity\") +\n",
    "  scale_y_continuous(labels=scales::percent)+\n",
    "theme(axis.text.x = element_text(angle = 90, hjust = 1))\n",
    "\n",
    "grid.arrange(plot1, plot2, ncol=2)"
   ]
  },
  {
   "cell_type": "code",
   "execution_count": 22,
   "metadata": {},
   "outputs": [
    {
     "data": {},
     "metadata": {},
     "output_type": "display_data"
    },
    {
     "data": {},
     "metadata": {},
     "output_type": "display_data"
    },
    {
     "data": {
      "image/png": "[encoded data removed]",
      "text/plain": [
       "plot without title"
      ]
     },
     "metadata": {},
     "output_type": "display_data"
    },
    {
     "data": {
      "image/png": "[encoded data removed]",
      "text/plain": [
       "plot without title"
      ]
     },
     "metadata": {},
     "output_type": "display_data"
    }
   ],
   "source": [
    "plot1=ggplot(bank,aes(month,fill=y))+geom_bar()+theme(axis.text.x = element_text(angle = 90, hjust = 1))\n",
    "\n",
    "mydf <- data.frame(prop.table(table(bank$month, bank$y),1))\n",
    "names(mydf)=c(\"month\",\"y\",\"Percentage\")\n",
    "\n",
    "plot2=ggplot(mydf, aes(month, Percentage, fill = y)) + \n",
    "  geom_bar(position = \"stack\", stat = \"identity\") +\n",
    "  scale_y_continuous(labels=scales::percent)+\n",
    "theme(axis.text.x = element_text(angle = 90, hjust = 1))\n",
    "\n",
    "plot1\n",
    "plot2"
   ]
  },
  {
   "cell_type": "code",
   "execution_count": 23,
   "metadata": {},
   "outputs": [
    {
     "data": {
      "image/png": "[encoded data removed]",
      "text/plain": [
       "plot without title"
      ]
     },
     "metadata": {},
     "output_type": "display_data"
    }
   ],
   "source": [
    "plot1=ggplot(bank,aes(y,fill=y))+geom_bar()+theme(axis.text.x = element_text(angle = 90, hjust = 1))\n",
    "\n",
    "mydf <- data.frame(prop.table(table(bank$y),1))\n",
    "names(mydf)=c(\"y\",\"Percentage\")\n",
    "\n",
    "plot2=ggplot(mydf, aes(y, Percentage, fill = y)) + \n",
    "  geom_bar(position = \"stack\", stat = \"identity\") +\n",
    "  scale_y_continuous(labels=scales::percent)+\n",
    "theme(axis.text.x = element_text(angle = 90, hjust = 1))\n",
    "\n",
    "grid.arrange(plot1, plot2, ncol=2)"
   ]
  },
  {
   "cell_type": "code",
   "execution_count": 24,
   "metadata": {},
   "outputs": [
    {
     "name": "stdout",
     "output_type": "stream",
     "text": [
      "'data.frame':\t31647 obs. of  16 variables:\n",
      " $ age      : int  45 34 40 58 59 36 34 38 52 48 ...\n",
      " $ job      : chr  \"blue-collar\" \"admin.\" \"technician\" \"self-employed\" ...\n",
      " $ marital  : chr  \"married\" \"divorced\" \"divorced\" \"married\" ...\n",
      " $ education: chr  \"secondary\" \"secondary\" \"secondary\" \"tertiary\" ...\n",
      " $ default  : chr  \"no\" \"no\" \"no\" \"no\" ...\n",
      " $ balance  : int  2 0 311 5810 169 24 -868 -140 98 1203 ...\n",
      " $ housing  : chr  \"no\" \"no\" \"no\" \"no\" ...\n",
      " $ loan     : chr  \"no\" \"no\" \"no\" \"no\" ...\n",
      " $ contact  : chr  \"cellular\" \"cellular\" \"cellular\" \"cellular\" ...\n",
      " $ day      : int  26 10 6 12 16 11 30 25 28 6 ...\n",
      " $ month    : chr  \"aug\" \"jul\" \"aug\" \"mar\" ...\n",
      " $ duration : int  105 268 738 139 181 100 198 456 103 61 ...\n",
      " $ campaign : int  10 1 2 1 3 5 2 3 1 5 ...\n",
      " $ pdays    : int  -1 -1 -1 -1 -1 -1 -1 -1 245 -1 ...\n",
      " $ previous : int  0 0 0 0 0 0 0 0 2 0 ...\n",
      " $ y        : chr  \"no\" \"no\" \"yes\" \"yes\" ...\n"
     ]
    }
   ],
   "source": [
    "str(bank)"
   ]
  },
  {
   "cell_type": "code",
   "execution_count": 25,
   "metadata": {
    "collapsed": true
   },
   "outputs": [],
   "source": [
    "bank_cor=bank  %>% select(-job,-marital ,-education,-contact,-month)"
   ]
  },
  {
   "cell_type": "code",
   "execution_count": 26,
   "metadata": {},
   "outputs": [
    {
     "data": {
      "text/plain": [
       "\n",
       "   no   yes \n",
       "31090   557 "
      ]
     },
     "metadata": {},
     "output_type": "display_data"
    }
   ],
   "source": [
    "table(bank_cor$default)\n",
    "bank_cor$default=ifelse(bank_cor$default==\"yes\",1,0)"
   ]
  },
  {
   "cell_type": "code",
   "execution_count": 27,
   "metadata": {},
   "outputs": [
    {
     "data": {
      "text/plain": [
       "\n",
       "   no   yes \n",
       "14007 17640 "
      ]
     },
     "metadata": {},
     "output_type": "display_data"
    }
   ],
   "source": [
    "table(bank_cor$housing)\n",
    "bank_cor$housing=ifelse(bank_cor$housing==\"yes\",1,0)"
   ]
  },
  {
   "cell_type": "code",
   "execution_count": 28,
   "metadata": {},
   "outputs": [
    {
     "data": {
      "text/plain": [
       "\n",
       "   no   yes \n",
       "26550  5097 "
      ]
     },
     "metadata": {},
     "output_type": "display_data"
    }
   ],
   "source": [
    "table(bank_cor$loan)\n",
    "bank_cor$loan=ifelse(bank_cor$loan==\"yes\",1,0)"
   ]
  },
  {
   "cell_type": "code",
   "execution_count": 29,
   "metadata": {},
   "outputs": [
    {
     "data": {
      "text/plain": [
       "\n",
       "   no   yes \n",
       "27927  3720 "
      ]
     },
     "metadata": {},
     "output_type": "display_data"
    }
   ],
   "source": [
    "table(bank_cor$y)\n",
    "bank_cor$y=ifelse(bank_cor$y==\"yes\",1,0)"
   ]
  },
  {
   "cell_type": "code",
   "execution_count": 30,
   "metadata": {},
   "outputs": [
    {
     "data": {
      "image/png": "[encoded data removed]",
      "text/plain": [
       "Plot with title \"\""
      ]
     },
     "metadata": {},
     "output_type": "display_data"
    }
   ],
   "source": [
    "corrplot(cor(bank_cor))"
   ]
  },
  {
   "cell_type": "code",
   "execution_count": 31,
   "metadata": {},
   "outputs": [
    {
     "data": {
      "image/png": "[encoded data removed]",
      "text/plain": [
       "plot without title"
      ]
     },
     "metadata": {},
     "output_type": "display_data"
    }
   ],
   "source": [
    "options(repr.plot.width=8, repr.plot.height=8)\n",
    "pairs(bank_cor)"
   ]
  },
  {
   "cell_type": "code",
   "execution_count": 32,
   "metadata": {
    "collapsed": true
   },
   "outputs": [],
   "source": [
    "options(repr.plot.width=8, repr.plot.height=4)"
   ]
  },
  {
   "cell_type": "markdown",
   "metadata": {},
   "source": [
    "##  <font color=green>Data Preparation</font>  "
   ]
  },
  {
   "cell_type": "code",
   "execution_count": 33,
   "metadata": {},
   "outputs": [
    {
     "data": {
      "text/plain": [
       "\n",
       "       admin.   blue-collar  entrepreneur     housemaid    management \n",
       "         3625          6884          1051           855          6616 \n",
       "      retired self-employed      services       student    technician \n",
       "         1587          1090          2888           660          5278 \n",
       "   unemployed \n",
       "          902 "
      ]
     },
     "metadata": {},
     "output_type": "display_data"
    }
   ],
   "source": [
    "table(bank$job)"
   ]
  },
  {
   "cell_type": "code",
   "execution_count": 34,
   "metadata": {
    "collapsed": true
   },
   "outputs": [],
   "source": [
    "bank$job=gsub(\"[[:punct:]]\" , \"\", bank$job)"
   ]
  },
  {
   "cell_type": "code",
   "execution_count": 35,
   "metadata": {
    "collapsed": true
   },
   "outputs": [],
   "source": [
    "bank[is.na(bank$job),\"job\"] = \"NAJob\"    "
   ]
  },
  {
   "cell_type": "code",
   "execution_count": 36,
   "metadata": {
    "collapsed": true
   },
   "outputs": [],
   "source": [
    "bank[ is.na(bank$education) & bank$job%in%c(\"bluecollar\",\"admin\",\"management\",\"retired\"),\"education\"] =\"tertiary\"\n",
    "bank[ is.na(bank$education) & bank$job%in%c(\"technician\",\"selfemployed\",\"services\"),\"education\"] =\"secondary\"\n",
    "bank[ is.na(bank$education) ,\"education\"] =\"primary\""
   ]
  },
  {
   "cell_type": "code",
   "execution_count": 37,
   "metadata": {
    "collapsed": true
   },
   "outputs": [],
   "source": [
    "bank[ is.na(bank$contact) ,\"contact\"] = \"cellular\""
   ]
  },
  {
   "cell_type": "code",
   "execution_count": 38,
   "metadata": {},
   "outputs": [],
   "source": [
    "for(i in 1 : ncol(bank)){\n",
    "if(class(bank[,i])==\"character\"){\n",
    "  bank[,i]=as.factor(bank[,i])\n",
    "\n",
    "}else{}\n",
    "\n",
    "}"
   ]
  },
  {
   "cell_type": "code",
   "execution_count": 39,
   "metadata": {
    "scrolled": true
   },
   "outputs": [
    {
     "data": {
      "text/html": [
       "<dl class=dl-horizontal>\n",
       "\t<dt>age</dt>\n",
       "\t\t<dd>0</dd>\n",
       "\t<dt>job</dt>\n",
       "\t\t<dd>0</dd>\n",
       "\t<dt>marital</dt>\n",
       "\t\t<dd>0</dd>\n",
       "\t<dt>education</dt>\n",
       "\t\t<dd>0</dd>\n",
       "\t<dt>default</dt>\n",
       "\t\t<dd>0</dd>\n",
       "\t<dt>balance</dt>\n",
       "\t\t<dd>0</dd>\n",
       "\t<dt>housing</dt>\n",
       "\t\t<dd>0</dd>\n",
       "\t<dt>loan</dt>\n",
       "\t\t<dd>0</dd>\n",
       "\t<dt>contact</dt>\n",
       "\t\t<dd>0</dd>\n",
       "\t<dt>day</dt>\n",
       "\t\t<dd>0</dd>\n",
       "\t<dt>month</dt>\n",
       "\t\t<dd>0</dd>\n",
       "\t<dt>duration</dt>\n",
       "\t\t<dd>0</dd>\n",
       "\t<dt>campaign</dt>\n",
       "\t\t<dd>0</dd>\n",
       "\t<dt>pdays</dt>\n",
       "\t\t<dd>0</dd>\n",
       "\t<dt>previous</dt>\n",
       "\t\t<dd>0</dd>\n",
       "\t<dt>y</dt>\n",
       "\t\t<dd>0</dd>\n",
       "</dl>\n"
      ],
      "text/latex": [
       "\\begin{description*}\n",
       "\\item[age] 0\n",
       "\\item[job] 0\n",
       "\\item[marital] 0\n",
       "\\item[education] 0\n",
       "\\item[default] 0\n",
       "\\item[balance] 0\n",
       "\\item[housing] 0\n",
       "\\item[loan] 0\n",
       "\\item[contact] 0\n",
       "\\item[day] 0\n",
       "\\item[month] 0\n",
       "\\item[duration] 0\n",
       "\\item[campaign] 0\n",
       "\\item[pdays] 0\n",
       "\\item[previous] 0\n",
       "\\item[y] 0\n",
       "\\end{description*}\n"
      ],
      "text/markdown": [
       "age\n",
       ":   0job\n",
       ":   0marital\n",
       ":   0education\n",
       ":   0default\n",
       ":   0balance\n",
       ":   0housing\n",
       ":   0loan\n",
       ":   0contact\n",
       ":   0day\n",
       ":   0month\n",
       ":   0duration\n",
       ":   0campaign\n",
       ":   0pdays\n",
       ":   0previous\n",
       ":   0y\n",
       ":   0\n",
       "\n"
      ],
      "text/plain": [
       "      age       job   marital education   default   balance   housing      loan \n",
       "        0         0         0         0         0         0         0         0 \n",
       "  contact       day     month  duration  campaign     pdays  previous         y \n",
       "        0         0         0         0         0         0         0         0 "
      ]
     },
     "metadata": {},
     "output_type": "display_data"
    }
   ],
   "source": [
    "colSums(is.na(bank))"
   ]
  },
  {
   "cell_type": "markdown",
   "metadata": {},
   "source": [
    "##  <font color=green>Modling</font>  "
   ]
  },
  {
   "cell_type": "code",
   "execution_count": 40,
   "metadata": {
    "collapsed": true
   },
   "outputs": [],
   "source": [
    "set.seed(2)\n",
    "a=sample(1:nrow(bank),nrow(bank)*0.75)\n",
    "\n",
    "bank_train =bank[a,]\n",
    "bank_test =bank[-a,]"
   ]
  },
  {
   "cell_type": "code",
   "execution_count": 95,
   "metadata": {
    "collapsed": true
   },
   "outputs": [],
   "source": [
    "set.seed(2)\n",
    "fit_rf=randomForest(y~.,data=bank_train,ntree=200,mtry=6)"
   ]
  },
  {
   "cell_type": "code",
   "execution_count": 96,
   "metadata": {
    "scrolled": false
   },
   "outputs": [
    {
     "data": {
      "text/plain": [
       "\n",
       "Call:\n",
       " randomForest(formula = y ~ ., data = bank_train, ntree = 200,      mtry = 6) \n",
       "               Type of random forest: classification\n",
       "                     Number of trees: 200\n",
       "No. of variables tried at each split: 6\n",
       "\n",
       "        OOB estimate of  error rate: 10.05%\n",
       "Confusion matrix:\n",
       "       no  yes class.error\n",
       "no  20083  888  0.04234419\n",
       "yes  1498 1266  0.54196816"
      ]
     },
     "metadata": {},
     "output_type": "display_data"
    }
   ],
   "source": [
    "fit_rf"
   ]
  },
  {
   "cell_type": "code",
   "execution_count": 107,
   "metadata": {},
   "outputs": [
    {
     "data": {
      "image/png": "[encoded data removed]",
      "text/plain": [
       "Plot with title \"fit_rf\""
      ]
     },
     "metadata": {},
     "output_type": "display_data"
    }
   ],
   "source": [
    "plot(fit_rf)"
   ]
  },
  {
   "cell_type": "code",
   "execution_count": 97,
   "metadata": {},
   "outputs": [
    {
     "data": {
      "image/png": "[encoded data removed]",
      "text/plain": [
       "Plot with title \"fit_rf\""
      ]
     },
     "metadata": {},
     "output_type": "display_data"
    }
   ],
   "source": [
    "varImpPlot(fit_rf)"
   ]
  },
  {
   "cell_type": "code",
   "execution_count": 105,
   "metadata": {
    "scrolled": true
   },
   "outputs": [
    {
     "data": {
      "text/plain": [
       "     pre\n",
       "         no   yes\n",
       "  no  20971     0\n",
       "  yes     0  2764"
      ]
     },
     "metadata": {},
     "output_type": "display_data"
    },
    {
     "name": "stdout",
     "output_type": "stream",
     "text": [
      "[1] \"KS Score:\"\n"
     ]
    },
    {
     "data": {
      "text/html": [
       "1"
      ],
      "text/latex": [
       "1"
      ],
      "text/markdown": [
       "1"
      ],
      "text/plain": [
       "[1] 1"
      ]
     },
     "metadata": {},
     "output_type": "display_data"
    },
    {
     "name": "stdout",
     "output_type": "stream",
     "text": [
      "[1] \"Accurecy Score:\"\n"
     ]
    },
    {
     "data": {
      "text/html": [
       "1"
      ],
      "text/latex": [
       "1"
      ],
      "text/markdown": [
       "1"
      ],
      "text/plain": [
       "[1] 1"
      ]
     },
     "metadata": {},
     "output_type": "display_data"
    }
   ],
   "source": [
    "set.seed(2)\n",
    "pre=predict(fit_rf,bank_train)\n",
    "\n",
    "a=table(bank_train$y,pre)\n",
    "a\n",
    "TPR=a[2,2]/ sum(a[2,])\n",
    "FPR=a[1,2]/ sum(a[1,])\n",
    "KS=TPR-FPR\n",
    "print(\"KS Score:\" )\n",
    "KS\n",
    "print(\"Accurecy Score:\" )\n",
    "(a[2,2]+a[1,1])/(sum(a))"
   ]
  },
  {
   "cell_type": "code",
   "execution_count": 106,
   "metadata": {
    "scrolled": true
   },
   "outputs": [
    {
     "data": {
      "text/plain": [
       "     pre\n",
       "        no  yes\n",
       "  no  6687  269\n",
       "  yes  512  444"
      ]
     },
     "metadata": {},
     "output_type": "display_data"
    },
    {
     "name": "stdout",
     "output_type": "stream",
     "text": [
      "[1] \"KS Score:\"\n"
     ]
    },
    {
     "data": {
      "text/html": [
       "0.425763496069737"
      ],
      "text/latex": [
       "0.425763496069737"
      ],
      "text/markdown": [
       "0.425763496069737"
      ],
      "text/plain": [
       "[1] 0.4257635"
      ]
     },
     "metadata": {},
     "output_type": "display_data"
    },
    {
     "name": "stdout",
     "output_type": "stream",
     "text": [
      "[1] \"Accurecy Score:\"\n"
     ]
    },
    {
     "data": {
      "text/html": [
       "0.9012891809909"
      ],
      "text/latex": [
       "0.9012891809909"
      ],
      "text/markdown": [
       "0.9012891809909"
      ],
      "text/plain": [
       "[1] 0.9012892"
      ]
     },
     "metadata": {},
     "output_type": "display_data"
    }
   ],
   "source": [
    "set.seed(2)\n",
    "pre=predict(fit_rf,bank_test)\n",
    "\n",
    "a=table(bank_test$y,pre)\n",
    "a\n",
    "TPR=a[2,2]/ sum(a[2,])\n",
    "FPR=a[1,2]/ sum(a[1,])\n",
    "KS=TPR-FPR\n",
    "print(\"KS Score:\" )\n",
    "KS\n",
    "print(\"Accurecy Score:\" )\n",
    "(a[2,2]+a[1,1])/(sum(a))"
   ]
  },
  {
   "cell_type": "markdown",
   "metadata": {
    "collapsed": true
   },
   "source": [
    "### Removing less important variables\n",
    "loan, marital, education, housing, previous, campaign"
   ]
  },
  {
   "cell_type": "code",
   "execution_count": 110,
   "metadata": {
    "collapsed": true
   },
   "outputs": [],
   "source": [
    "set.seed(2)\n",
    "fit_rf=randomForest(y~duration+month+balance+age+day+job+pdays,data=bank_train,ntree=200,mtry=3)"
   ]
  },
  {
   "cell_type": "code",
   "execution_count": 111,
   "metadata": {
    "scrolled": false
   },
   "outputs": [
    {
     "data": {
      "text/plain": [
       "\n",
       "Call:\n",
       " randomForest(formula = y ~ duration + month + balance + age +      day + job + pdays, data = bank_train, ntree = 200, mtry = 3) \n",
       "               Type of random forest: classification\n",
       "                     Number of trees: 200\n",
       "No. of variables tried at each split: 3\n",
       "\n",
       "        OOB estimate of  error rate: 10.24%\n",
       "Confusion matrix:\n",
       "       no  yes class.error\n",
       "no  20098  873  0.04162892\n",
       "yes  1558 1206  0.56367583"
      ]
     },
     "metadata": {},
     "output_type": "display_data"
    }
   ],
   "source": [
    "fit_rf"
   ]
  },
  {
   "cell_type": "code",
   "execution_count": 112,
   "metadata": {},
   "outputs": [
    {
     "data": {
      "text/plain": [
       "     pre\n",
       "         no   yes\n",
       "  no  20971     0\n",
       "  yes     0  2764"
      ]
     },
     "metadata": {},
     "output_type": "display_data"
    },
    {
     "name": "stdout",
     "output_type": "stream",
     "text": [
      "[1] \"KS Score:\"\n"
     ]
    },
    {
     "data": {
      "text/html": [
       "1"
      ],
      "text/latex": [
       "1"
      ],
      "text/markdown": [
       "1"
      ],
      "text/plain": [
       "[1] 1"
      ]
     },
     "metadata": {},
     "output_type": "display_data"
    },
    {
     "name": "stdout",
     "output_type": "stream",
     "text": [
      "[1] \"Accurecy Score:\"\n"
     ]
    },
    {
     "data": {
      "text/html": [
       "1"
      ],
      "text/latex": [
       "1"
      ],
      "text/markdown": [
       "1"
      ],
      "text/plain": [
       "[1] 1"
      ]
     },
     "metadata": {},
     "output_type": "display_data"
    }
   ],
   "source": [
    "set.seed(2)\n",
    "pre=predict(fit_rf,bank_train)\n",
    "\n",
    "a=table(bank_train$y,pre)\n",
    "a\n",
    "TPR=a[2,2]/ sum(a[2,])\n",
    "FPR=a[1,2]/ sum(a[1,])\n",
    "KS=TPR-FPR\n",
    "print(\"KS Score:\" )\n",
    "KS\n",
    "print(\"Accurecy Score:\" )\n",
    "(a[2,2]+a[1,1])/(sum(a))"
   ]
  },
  {
   "cell_type": "code",
   "execution_count": 115,
   "metadata": {},
   "outputs": [
    {
     "data": {
      "text/plain": [
       "     pre\n",
       "        no  yes\n",
       "  no  6688  268\n",
       "  yes  516  440"
      ]
     },
     "metadata": {},
     "output_type": "display_data"
    },
    {
     "name": "stdout",
     "output_type": "stream",
     "text": [
      "[1] \"KS Score:\"\n"
     ]
    },
    {
     "data": {
      "text/html": [
       "0.421723156433385"
      ],
      "text/latex": [
       "0.421723156433385"
      ],
      "text/markdown": [
       "0.421723156433385"
      ],
      "text/plain": [
       "[1] 0.4217232"
      ]
     },
     "metadata": {},
     "output_type": "display_data"
    },
    {
     "name": "stdout",
     "output_type": "stream",
     "text": [
      "[1] \"Accurecy Score:\"\n"
     ]
    },
    {
     "data": {
      "text/html": [
       "0.900910010111223"
      ],
      "text/latex": [
       "0.900910010111223"
      ],
      "text/markdown": [
       "0.900910010111223"
      ],
      "text/plain": [
       "[1] 0.90091"
      ]
     },
     "metadata": {},
     "output_type": "display_data"
    },
    {
     "name": "stdout",
     "output_type": "stream",
     "text": [
      "[1] \"Precession Score:\"\n"
     ]
    },
    {
     "data": {
      "text/html": [
       "0.621468926553672"
      ],
      "text/latex": [
       "0.621468926553672"
      ],
      "text/markdown": [
       "0.621468926553672"
      ],
      "text/plain": [
       "[1] 0.6214689"
      ]
     },
     "metadata": {},
     "output_type": "display_data"
    },
    {
     "name": "stdout",
     "output_type": "stream",
     "text": [
      "[1] \"True Positive Rate Score:\"\n"
     ]
    },
    {
     "data": {
      "text/html": [
       "0.460251046025105"
      ],
      "text/latex": [
       "0.460251046025105"
      ],
      "text/markdown": [
       "0.460251046025105"
      ],
      "text/plain": [
       "[1] 0.460251"
      ]
     },
     "metadata": {},
     "output_type": "display_data"
    }
   ],
   "source": [
    "set.seed(2)\n",
    "pre=predict(fit_rf,bank_test)\n",
    "\n",
    "a=table(bank_test$y,pre)\n",
    "a\n",
    "TPR=a[2,2]/ sum(a[2,])\n",
    "FPR=a[1,2]/ sum(a[1,])\n",
    "KS=TPR-FPR\n",
    "print(\"KS Score:\" )\n",
    "KS\n",
    "print(\"Accurecy Score:\" )\n",
    "(a[2,2]+a[1,1])/(sum(a))\n",
    "print(\"Precession Score:\" )\n",
    "(a[2,2])/(sum(a[,2]))\n",
    "print(\"True Positive Rate Score:\" )\n",
    "(a[2,2])/(sum(a[2,]))"
   ]
  },
  {
   "cell_type": "code",
   "execution_count": null,
   "metadata": {
    "collapsed": true
   },
   "outputs": [],
   "source": []
  }
 ],
 "metadata": {
  "kernelspec": {
   "display_name": "R",
   "language": "R",
   "name": "ir"
  },
  "language_info": {
   "codemirror_mode": "r",
   "file_extension": ".r",
   "mimetype": "text/x-r-source",
   "name": "R",
   "pygments_lexer": "r",
   "version": "3.4.1"
  }
 },
 "nbformat": 4,
 "nbformat_minor": 2
}
